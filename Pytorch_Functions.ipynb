{
  "nbformat": 4,
  "nbformat_minor": 0,
  "metadata": {
    "colab": {
      "name": "Pytorch_Functions.ipynb",
      "provenance": [],
      "collapsed_sections": [],
      "authorship_tag": "ABX9TyN7FRYELZp9uz8+9nHi9ty9",
      "include_colab_link": true
    },
    "kernelspec": {
      "name": "python3",
      "display_name": "Python 3"
    }
  },
  "cells": [
    {
      "cell_type": "markdown",
      "metadata": {
        "id": "view-in-github",
        "colab_type": "text"
      },
      "source": [
        "<a href=\"https://colab.research.google.com/github/SrAyush31/PyTorch/blob/main/Pytorch_Functions.ipynb\" target=\"_parent\"><img src=\"https://colab.research.google.com/assets/colab-badge.svg\" alt=\"Open In Colab\"/></a>"
      ]
    },
    {
      "cell_type": "code",
      "metadata": {
        "id": "YRp7O2c_BImV"
      },
      "source": [
        "import torch"
      ],
      "execution_count": null,
      "outputs": []
    },
    {
      "cell_type": "markdown",
      "metadata": {
        "id": "opyn3NV6CH40"
      },
      "source": [
        "# Function 1: torch.linspace"
      ]
    },
    {
      "cell_type": "markdown",
      "metadata": {
        "id": "sBpxw6DOCObO"
      },
      "source": [
        "torch.linspace is used to create a 1D equally spaced tensor between the values start and end . We can specify the size of the tensor with the steps parameters. The default is steps=100\n"
      ]
    },
    {
      "cell_type": "code",
      "metadata": {
        "colab": {
          "base_uri": "https://localhost:8080/"
        },
        "id": "acnmWyc0CFd5",
        "outputId": "13b7e38b-0a32-4188-9b25-75439639f091"
      },
      "source": [
        "#Example_1\n",
        "torch.linspace(1, 10)"
      ],
      "execution_count": null,
      "outputs": [
        {
          "output_type": "execute_result",
          "data": {
            "text/plain": [
              "tensor([ 1.0000,  1.0909,  1.1818,  1.2727,  1.3636,  1.4545,  1.5455,  1.6364,\n",
              "         1.7273,  1.8182,  1.9091,  2.0000,  2.0909,  2.1818,  2.2727,  2.3636,\n",
              "         2.4545,  2.5455,  2.6364,  2.7273,  2.8182,  2.9091,  3.0000,  3.0909,\n",
              "         3.1818,  3.2727,  3.3636,  3.4545,  3.5455,  3.6364,  3.7273,  3.8182,\n",
              "         3.9091,  4.0000,  4.0909,  4.1818,  4.2727,  4.3636,  4.4545,  4.5455,\n",
              "         4.6364,  4.7273,  4.8182,  4.9091,  5.0000,  5.0909,  5.1818,  5.2727,\n",
              "         5.3636,  5.4545,  5.5455,  5.6364,  5.7273,  5.8182,  5.9091,  6.0000,\n",
              "         6.0909,  6.1818,  6.2727,  6.3636,  6.4545,  6.5455,  6.6364,  6.7273,\n",
              "         6.8182,  6.9091,  7.0000,  7.0909,  7.1818,  7.2727,  7.3636,  7.4545,\n",
              "         7.5455,  7.6364,  7.7273,  7.8182,  7.9091,  8.0000,  8.0909,  8.1818,\n",
              "         8.2727,  8.3636,  8.4545,  8.5455,  8.6364,  8.7273,  8.8182,  8.9091,\n",
              "         9.0000,  9.0909,  9.1818,  9.2727,  9.3636,  9.4545,  9.5455,  9.6364,\n",
              "         9.7273,  9.8182,  9.9091, 10.0000])"
            ]
          },
          "metadata": {
            "tags": []
          },
          "execution_count": 6
        }
      ]
    },
    {
      "cell_type": "code",
      "metadata": {
        "colab": {
          "base_uri": "https://localhost:8080/"
        },
        "id": "tcV-g5E2CvMP",
        "outputId": "dd52a109-a1b7-4186-d8b2-cca4e3d26a6e"
      },
      "source": [
        "#Example_2\n",
        "torch.linspace(start=1, end=10, steps=5)\n"
      ],
      "execution_count": null,
      "outputs": [
        {
          "output_type": "execute_result",
          "data": {
            "text/plain": [
              "tensor([ 1.0000,  3.2500,  5.5000,  7.7500, 10.0000])"
            ]
          },
          "metadata": {
            "tags": []
          },
          "execution_count": 7
        }
      ]
    },
    {
      "cell_type": "markdown",
      "metadata": {
        "id": "Ha0FqAV8C-mU"
      },
      "source": [
        "# Function 2: torch.eye"
      ]
    },
    {
      "cell_type": "markdown",
      "metadata": {
        "id": "jHJVyvkMDYM0"
      },
      "source": [
        "torch.eye returns a 2D tensor with the values of diagonals as 1 and other values as 0\n",
        "The function expects two parameters — n and m . If m is not specified, then it returns a 2D tensor of size nxn"
      ]
    },
    {
      "cell_type": "code",
      "metadata": {
        "colab": {
          "base_uri": "https://localhost:8080/"
        },
        "id": "igW3sTLPDTe7",
        "outputId": "004d3259-2d49-4514-c670-4f72e2d78e19"
      },
      "source": [
        "#Example_1\n",
        "torch.eye(n=4, m=5)\n"
      ],
      "execution_count": null,
      "outputs": [
        {
          "output_type": "execute_result",
          "data": {
            "text/plain": [
              "tensor([[1., 0., 0., 0., 0.],\n",
              "        [0., 1., 0., 0., 0.],\n",
              "        [0., 0., 1., 0., 0.],\n",
              "        [0., 0., 0., 1., 0.]])"
            ]
          },
          "metadata": {
            "tags": []
          },
          "execution_count": 8
        }
      ]
    },
    {
      "cell_type": "code",
      "metadata": {
        "colab": {
          "base_uri": "https://localhost:8080/"
        },
        "id": "3V5yt2uUDo3l",
        "outputId": "f52bb3aa-d3c8-4d25-a806-c8899adc4957"
      },
      "source": [
        "#Example_2\n",
        "torch.eye(n=3)"
      ],
      "execution_count": null,
      "outputs": [
        {
          "output_type": "execute_result",
          "data": {
            "text/plain": [
              "tensor([[1., 0., 0.],\n",
              "        [0., 1., 0.],\n",
              "        [0., 0., 1.]])"
            ]
          },
          "metadata": {
            "tags": []
          },
          "execution_count": 9
        }
      ]
    },
    {
      "cell_type": "markdown",
      "metadata": {
        "id": "qlVpM14vD_ZP"
      },
      "source": [
        "# Function 3: torch.full"
      ]
    },
    {
      "cell_type": "markdown",
      "metadata": {
        "id": "6DtMm1utEO7Q"
      },
      "source": [
        "torch.full returns a tensor of Size size with the values filled with fill_value \n",
        "The size can be a list or a tuple."
      ]
    },
    {
      "cell_type": "code",
      "metadata": {
        "colab": {
          "base_uri": "https://localhost:8080/"
        },
        "id": "mRjun9vmENle",
        "outputId": "174e8231-2aa4-4e55-b85d-2b7e26245a1e"
      },
      "source": [
        "#Example_1\n",
        "torch.full(size=(3,2), fill_value=10)"
      ],
      "execution_count": null,
      "outputs": [
        {
          "output_type": "execute_result",
          "data": {
            "text/plain": [
              "tensor([[10, 10],\n",
              "        [10, 10],\n",
              "        [10, 10]])"
            ]
          },
          "metadata": {
            "tags": []
          },
          "execution_count": 13
        }
      ]
    },
    {
      "cell_type": "code",
      "metadata": {
        "colab": {
          "base_uri": "https://localhost:8080/"
        },
        "id": "Jvt7gYbTEcZd",
        "outputId": "0f9bcc66-b40d-472e-8a24-df7b9c5e4083"
      },
      "source": [
        "#Example_2\n",
        "torch.full(size=[2, 3, 4], fill_value=5)"
      ],
      "execution_count": null,
      "outputs": [
        {
          "output_type": "execute_result",
          "data": {
            "text/plain": [
              "tensor([[[5, 5, 5, 5],\n",
              "         [5, 5, 5, 5],\n",
              "         [5, 5, 5, 5]],\n",
              "\n",
              "        [[5, 5, 5, 5],\n",
              "         [5, 5, 5, 5],\n",
              "         [5, 5, 5, 5]]])"
            ]
          },
          "metadata": {
            "tags": []
          },
          "execution_count": 14
        }
      ]
    },
    {
      "cell_type": "markdown",
      "metadata": {
        "id": "G3LGy0MgGUtT"
      },
      "source": [
        "# Function 4: torch.take"
      ]
    },
    {
      "cell_type": "markdown",
      "metadata": {
        "id": "v06Y6XmpGkDR"
      },
      "source": [
        "torch.take returns a tensor with the elements of the input tensors at the given indices. The input tensor is treated as a 1D tensor to return the values."
      ]
    },
    {
      "cell_type": "code",
      "metadata": {
        "colab": {
          "base_uri": "https://localhost:8080/"
        },
        "id": "-C8hp6LVE1uI",
        "outputId": "53276014-30d4-44c7-960f-bf3840c2fa1f"
      },
      "source": [
        "#Example_1\n",
        "\n",
        "# 1D input Tensor\n",
        "b = torch.tensor([10, 20, 30, 40, 50])\n",
        "torch.take(b, torch.tensor([2]))"
      ],
      "execution_count": null,
      "outputs": [
        {
          "output_type": "execute_result",
          "data": {
            "text/plain": [
              "tensor([30])"
            ]
          },
          "metadata": {
            "tags": []
          },
          "execution_count": 16
        }
      ]
    },
    {
      "cell_type": "code",
      "metadata": {
        "colab": {
          "base_uri": "https://localhost:8080/"
        },
        "id": "g7Zi4Sp7GxM5",
        "outputId": "2a6394d4-2f9c-492d-d302-b6edb2e69b37"
      },
      "source": [
        "#Example_2\n",
        "\n",
        "# 2D input tensor\n",
        "a = torch.tensor([[1, 2, 3],\n",
        "                  [4, 5, 6]])\n",
        "torch.take(a, torch.tensor([3,4]))"
      ],
      "execution_count": null,
      "outputs": [
        {
          "output_type": "execute_result",
          "data": {
            "text/plain": [
              "tensor([4, 5])"
            ]
          },
          "metadata": {
            "tags": []
          },
          "execution_count": 17
        }
      ]
    },
    {
      "cell_type": "markdown",
      "metadata": {
        "id": "kjZS9G7SIMAf"
      },
      "source": [
        "# Function 5: torch.unbind"
      ]
    },
    {
      "cell_type": "markdown",
      "metadata": {
        "id": "GU9DxzF1IcnK"
      },
      "source": [
        "torch.unbind removes a tensor dimension along the given dimension dim \n",
        "The default dimension is 0 i.e. dim=0"
      ]
    },
    {
      "cell_type": "code",
      "metadata": {
        "colab": {
          "base_uri": "https://localhost:8080/"
        },
        "id": "_MY7eEbxHAli",
        "outputId": "490c6dab-1c3f-474a-ab90-f3c6eb24ed86"
      },
      "source": [
        "#Example_1\n",
        "a = torch.tensor([[1, 2, 3,],\n",
        "                  [4, 5, 6,]])\n",
        "torch.unbind(a)"
      ],
      "execution_count": null,
      "outputs": [
        {
          "output_type": "execute_result",
          "data": {
            "text/plain": [
              "(tensor([1, 2, 3]), tensor([4, 5, 6]))"
            ]
          },
          "metadata": {
            "tags": []
          },
          "execution_count": 27
        }
      ]
    },
    {
      "cell_type": "code",
      "metadata": {
        "colab": {
          "base_uri": "https://localhost:8080/"
        },
        "id": "t2SxtcbhIpUh",
        "outputId": "413c37fe-6f88-480b-b0bf-773525c6d7c4"
      },
      "source": [
        "#Example_2\n",
        "a = torch.tensor([[1, 2, 3],\n",
        "                  [4, 5, 6]])\n",
        "torch.unbind(a, dim=1)"
      ],
      "execution_count": null,
      "outputs": [
        {
          "output_type": "execute_result",
          "data": {
            "text/plain": [
              "(tensor([1, 4]), tensor([2, 5]), tensor([3, 6]))"
            ]
          },
          "metadata": {
            "tags": []
          },
          "execution_count": 23
        }
      ]
    }
  ]
}